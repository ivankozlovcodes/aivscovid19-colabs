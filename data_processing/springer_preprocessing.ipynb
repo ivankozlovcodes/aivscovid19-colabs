{
  "nbformat": 4,
  "nbformat_minor": 0,
  "metadata": {
    "colab": {
      "name": "springer_preprocessing.ipynb",
      "provenance": [],
      "collapsed_sections": [],
      "authorship_tag": "ABX9TyPZxH4OVKrrOxsK+9Ckm1gy",
      "include_colab_link": true
    },
    "kernelspec": {
      "name": "python3",
      "display_name": "Python 3"
    }
  },
  "cells": [
    {
      "cell_type": "markdown",
      "metadata": {
        "id": "view-in-github",
        "colab_type": "text"
      },
      "source": [
        "<a href=\"https://colab.research.google.com/github/ivankozlovcodes/aivscovid19-colabs/blob/master/data_processing/springer_preprocessing.ipynb\" target=\"_parent\"><img src=\"https://colab.research.google.com/assets/colab-badge.svg\" alt=\"Open In Colab\"/></a>"
      ]
    },
    {
      "cell_type": "markdown",
      "metadata": {
        "id": "xpdQrKzjKP1S",
        "colab_type": "text"
      },
      "source": [
        "# Preprocessing for springer dataset\n",
        "\n",
        "Location on the bucket: gs://middleware-bucket/springer/\n",
        "Description: csv files 10000 records each. Approx 1000000 articles\n"
      ]
    },
    {
      "cell_type": "markdown",
      "metadata": {
        "id": "O83d1tZ0jGm0",
        "colab_type": "text"
      },
      "source": [
        "NOTES:\n",
        "\n",
        "BigQuery schema reference:\n",
        "* Title\n",
        "* Authors\n",
        "* DOI (Digital Object Identifier)\n",
        "* Abstract\n",
        "* Date\n",
        "* Full body\n",
        "* Source(what journal we got it from)\n",
        "* Source impact factor (tiers)\n",
        "* Search keyword (used to find this document)\n",
        "* Category (genomics for example)\n",
        "* Licencing \n",
        "* Date of the document acquisition\n",
        "* Quantity of citations\n",
        "* Organization affiliated\n",
        "* Keywords\n",
        "* References\n",
        "* Link\n",
        "* Extra link\n"
      ]
    },
    {
      "cell_type": "code",
      "metadata": {
        "id": "iKX38B2OL6gP",
        "colab_type": "code",
        "outputId": "0f2cfd97-12fc-42f0-912c-09f4f1d3912f",
        "colab": {
          "base_uri": "https://localhost:8080/",
          "height": 425
        }
      },
      "source": [
        "!pip install apache_beam[gcp] --quiet"
      ],
      "execution_count": 0,
      "outputs": [
        {
          "output_type": "stream",
          "text": [
            "\u001b[K     |████████████████████████████████| 3.4MB 2.8MB/s \n",
            "\u001b[K     |████████████████████████████████| 61kB 9.0MB/s \n",
            "\u001b[K     |████████████████████████████████| 225kB 29.9MB/s \n",
            "\u001b[K     |████████████████████████████████| 59.2MB 62kB/s \n",
            "\u001b[K     |████████████████████████████████| 1.2MB 45.1MB/s \n",
            "\u001b[K     |████████████████████████████████| 81kB 10.4MB/s \n",
            "\u001b[K     |████████████████████████████████| 51kB 7.5MB/s \n",
            "\u001b[K     |████████████████████████████████| 122kB 51.4MB/s \n",
            "\u001b[K     |████████████████████████████████| 174kB 47.1MB/s \n",
            "\u001b[K     |████████████████████████████████| 92kB 9.9MB/s \n",
            "\u001b[K     |████████████████████████████████| 235kB 40.5MB/s \n",
            "\u001b[K     |████████████████████████████████| 143kB 57.7MB/s \n",
            "\u001b[K     |████████████████████████████████| 112kB 61.6MB/s \n",
            "\u001b[?25h  Building wheel for httplib2 (setup.py) ... \u001b[?25l\u001b[?25hdone\n",
            "  Building wheel for avro-python3 (setup.py) ... \u001b[?25l\u001b[?25hdone\n",
            "  Building wheel for oauth2client (setup.py) ... \u001b[?25l\u001b[?25hdone\n",
            "  Building wheel for hdfs (setup.py) ... \u001b[?25l\u001b[?25hdone\n",
            "  Building wheel for google-apitools (setup.py) ... \u001b[?25l\u001b[?25hdone\n",
            "  Building wheel for grpc-google-iam-v1 (setup.py) ... \u001b[?25l\u001b[?25hdone\n",
            "\u001b[31mERROR: pydrive 1.3.1 has requirement oauth2client>=4.0.0, but you'll have oauth2client 3.0.0 which is incompatible.\u001b[0m\n",
            "\u001b[31mERROR: google-api-python-client 1.7.12 has requirement httplib2<1dev,>=0.17.0, but you'll have httplib2 0.12.0 which is incompatible.\u001b[0m\n",
            "\u001b[31mERROR: chainer 6.5.0 has requirement typing<=3.6.6, but you'll have typing 3.7.4.1 which is incompatible.\u001b[0m\n",
            "\u001b[31mERROR: chainer 6.5.0 has requirement typing-extensions<=3.6.6, but you'll have typing-extensions 3.7.4.1 which is incompatible.\u001b[0m\n"
          ],
          "name": "stdout"
        }
      ]
    },
    {
      "cell_type": "code",
      "metadata": {
        "id": "SVufiSByK8fJ",
        "colab_type": "code",
        "colab": {}
      },
      "source": [
        "from google.colab import auth\n",
        "\n",
        "auth.authenticate_user()"
      ],
      "execution_count": 0,
      "outputs": []
    },
    {
      "cell_type": "markdown",
      "metadata": {
        "id": "PVDnRlDGLOHP",
        "colab_type": "text"
      },
      "source": [
        "### Csv header"
      ]
    },
    {
      "cell_type": "code",
      "metadata": {
        "id": "p34YJFuzKPmI",
        "colab_type": "code",
        "outputId": "8fd9a46e-86e5-432e-c37a-f607ffdf6aaa",
        "colab": {
          "base_uri": "https://localhost:8080/",
          "height": 34
        }
      },
      "source": [
        "!gsutil cat gs://middleware-bucket/springer/1-10001records.csv | head -1"
      ],
      "execution_count": 0,
      "outputs": [
        {
          "output_type": "stream",
          "text": [
            "html_url,pdf_url,title,name,creators,editors,open_access,doi,type,date,abstract\r\n"
          ],
          "name": "stdout"
        }
      ]
    },
    {
      "cell_type": "markdown",
      "metadata": {
        "id": "r0bQ0NWbjqLl",
        "colab_type": "text"
      },
      "source": [
        "### BigQuery connection\n",
        "See here: https://beam.apache.org/documentation/io/built-in/google-bigquery/"
      ]
    },
    {
      "cell_type": "code",
      "metadata": {
        "id": "W1v37ec9MAzb",
        "colab_type": "code",
        "outputId": "e215d45d-d555-4f7b-fbd0-cad7b419a28e",
        "colab": {
          "base_uri": "https://localhost:8080/",
          "height": 34
        }
      },
      "source": [
        "%%writefile pipeline.py\n",
        "import io\n",
        "import sys\n",
        "import csv\n",
        "from datetime import datetime\n",
        "from collections import namedtuple\n",
        "\n",
        "import apache_beam as beam\n",
        "from apache_beam.io import fileio\n",
        "from apache_beam.options.pipeline_options import PipelineOptions, SetupOptions\n",
        "\n",
        "# table_spec = 'ai-vs-covid19:BigBioMedBERT2.springer_com_use'\n",
        "# TODO(ivan): remove\n",
        "table_spec_open = 'ai-vs-covid19:test.springer_comm_use'\n",
        "table_spec_no_open = 'ai-vs-covid19:test.springer_non_comm_use'\n",
        "table_schema = 'title:STRING, type:STRING, link:STRING, extra_link:STRING, authors:STRING, editors:STRING, abstract:STRING, doi:STRING, date:DATE, keywords:STRING, aquisition_date:DATE'\n",
        "\n",
        "# input_pattern = 'gs://middleware-bucket/springer/*.csv'\n",
        "# TODO(ivan): remove\n",
        "# input_pattern = 'gs://middleware-bucket/springer/10*'\n",
        "input_pattern = 'gs://middleware-bucket/springer/1-10001records.csv'\n",
        "# input_pattern = 'asd.csv'\n",
        "\n",
        "class SplitData(beam.DoFn):\n",
        "  OPEN_ACCESS='OPEN_ACCESS'\n",
        "  NO_OPEN_ACCESS='NO_OPEN_ACCESS'\n",
        "\n",
        "  def process(self, element):\n",
        "    if element['open_access'] == 'false':\n",
        "      yield beam.pvalue.TaggedOutput(self.NO_OPEN_ACCESS, element)\n",
        "    else:\n",
        "      yield beam.pvalue.TaggedOutput(self.OPEN_ACCESS, element)\n",
        "\n",
        "def rebuild_authors_list(authors):\n",
        "  authors_list = authors.split(';')\n",
        "  new_authors_list = [' '.join(reversed(a.split(','))).strip() for a in authors_list]\n",
        "  return ';'.join(new_authors_list)\n",
        "\n",
        "def clean_abstract(abstract):\n",
        "  lines = []\n",
        "  for line in abstract.split('\\n'):\n",
        "    line = line.strip()\n",
        "    if len(line) > 0:\n",
        "      lines.append(line)\n",
        "  return '\\n'.join(lines)\n",
        "\n",
        "def rebuild_dictionary(csv_row_dict):\n",
        "  abstract = clean_abstract(csv_row_dict['abstract'])\n",
        "  return {\n",
        "      'title': csv_row_dict['title'],\n",
        "      'type': csv_row_dict['type'],\n",
        "      'link': csv_row_dict['html_url'],\n",
        "      'extra_link': csv_row_dict['pdf_url'],\n",
        "      'authors':  rebuild_authors_list(csv_row_dict['creators']),\n",
        "      'editors': rebuild_authors_list(csv_row_dict['editors']),\n",
        "      'abstract': abstract,\n",
        "      'doi': csv_row_dict['doi'],\n",
        "      'date': csv_row_dict['date'],\n",
        "      'keywords': 'biochemistry',\n",
        "      'aquisition_date': '2020-3-16',\n",
        "  }\n",
        "\n",
        "def get_csv_reader(readable_file):\n",
        "  return csv.DictReader(io.TextIOWrapper(readable_file.open()))\n",
        "\n",
        "options = PipelineOptions(flags=sys.argv)\n",
        "options.view_as(SetupOptions).save_main_session = True\n",
        "\n",
        "with beam.Pipeline(options=options) as p:\n",
        "# with beam.Pipeline() as p:\n",
        "  data = (\n",
        "    p\n",
        "    | beam.io.fileio.MatchFiles(input_pattern)\n",
        "    | beam.io.fileio.ReadMatches()\n",
        "    | beam.Reshuffle()\n",
        "    | beam.FlatMap(get_csv_reader)\n",
        "    | beam.ParDo(SplitData()).with_outputs(\n",
        "        SplitData.OPEN_ACCESS,\n",
        "        SplitData.NO_OPEN_ACCESS)\n",
        "  )\n",
        "\n",
        "  (\n",
        "    data.OPEN_ACCESS\n",
        "    | 'open_access' >> beam.Map(rebuild_dictionary)\n",
        "    | 'open_access output' >> beam.io.WriteToBigQuery(\n",
        "      table_spec_open,\n",
        "      schema=table_schema,\n",
        "      write_disposition=beam.io.BigQueryDisposition.WRITE_APPEND,\n",
        "      create_disposition=beam.io.BigQueryDisposition.CREATE_IF_NEEDED)\n",
        "  )\n",
        "  (\n",
        "    data.NO_OPEN_ACCESS\n",
        "    | 'no_open_access' >> beam.Map(rebuild_dictionary)\n",
        "    | 'no_open_access output' >> beam.io.WriteToBigQuery(\n",
        "      table_spec_no_open,\n",
        "      schema=table_schema,\n",
        "      write_disposition=beam.io.BigQueryDisposition.WRITE_APPEND,\n",
        "      create_disposition=beam.io.BigQueryDisposition.CREATE_IF_NEEDED)\n",
        "  )\n",
        "  p.run().wait_until_finish()"
      ],
      "execution_count": 0,
      "outputs": [
        {
          "output_type": "stream",
          "text": [
            "Overwriting pipeline.py\n"
          ],
          "name": "stdout"
        }
      ]
    },
    {
      "cell_type": "code",
      "metadata": {
        "id": "7c9ZaYBIuutF",
        "colab_type": "code",
        "colab": {}
      },
      "source": [
        "from google.colab import auth\n",
        "auth.authenticate_user()"
      ],
      "execution_count": 0,
      "outputs": []
    },
    {
      "cell_type": "code",
      "metadata": {
        "id": "Z7oNaSJ8kJSD",
        "colab_type": "code",
        "outputId": "a42468bc-b435-4973-ac5d-442e24b5ea45",
        "colab": {
          "base_uri": "https://localhost:8080/",
          "height": 338
        }
      },
      "source": [
        "%env PROJECT=ai-vs-covid19\n",
        "%env BUCKET=apache-dataflow-temp\n",
        "\n",
        "# --input gs://middleware-bucket/springer/1-10001records.cs \\\n",
        "!python pipeline.py \\\n",
        "  --runner DataflowRunner \\\n",
        "  --project $PROJECT \\\n",
        "  --temp_location gs://$BUCKET/tmp"
      ],
      "execution_count": 0,
      "outputs": [
        {
          "output_type": "stream",
          "text": [
            "env: PROJECT=ai-vs-covid19\n",
            "env: BUCKET=apache-dataflow-temp\n",
            "Namespace()\n",
            "['--runner', 'DataflowRunner', '--project', 'ai-vs-covid19', '--temp_location', 'gs://apache-dataflow-temp/tmp']\n",
            "WARNING:apache_beam.options.pipeline_options:--region not set; will default to us-central1. Future releases of Beam will require the user to set --region explicitly, or else have a default set via the gcloud tool. https://cloud.google.com/compute/docs/regions-zones\n",
            "pipeline.py:76: FutureWarning: MatchFiles is experimental.\n",
            "  | beam.ParDo(SplitData()).with_outputs(\n",
            "/usr/local/lib/python3.6/dist-packages/apache_beam/io/fileio.py:189: FutureWarning: MatchAll is experimental.\n",
            "  | MatchAll())\n",
            "pipeline.py:76: FutureWarning: ReadMatches is experimental.\n",
            "  | beam.ParDo(SplitData()).with_outputs(\n",
            "/usr/local/lib/python3.6/dist-packages/apache_beam/runners/dataflow/dataflow_runner.py:740: BeamDeprecationWarning: BigQuerySink is deprecated since 2.11.0. Use WriteToBigQuery instead.\n",
            "  kms_key=transform.kms_key))\n",
            "WARNING:apache_beam.options.pipeline_options:Discarding unparseable args: ['pipeline.py']\n",
            "WARNING:apache_beam.options.pipeline_options:Discarding unparseable args: ['pipeline.py']\n",
            "WARNING:apache_beam.options.pipeline_options:Discarding unparseable args: ['pipeline.py']\n",
            "WARNING:apache_beam.options.pipeline_options:Discarding unparseable args: ['pipeline.py']\n"
          ],
          "name": "stdout"
        }
      ]
    }
  ]
}